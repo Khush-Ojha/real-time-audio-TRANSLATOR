{
 "cells": [
  {
   "cell_type": "code",
   "execution_count": null,
   "id": "1942804f-2163-4022-955f-66f2e1797cf9",
   "metadata": {},
   "outputs": [],
   "source": [
    "!pip3 install playsound  "
   ]
  },
  {
   "cell_type": "code",
   "execution_count": null,
   "id": "27d45c42-04b6-4820-ab13-269b83811f58",
   "metadata": {},
   "outputs": [],
   "source": [
    "!pip3 install googletrans  "
   ]
  },
  {
   "cell_type": "code",
   "execution_count": null,
   "id": "80531d90-6ac5-4d20-b9a0-e741e8be7b10",
   "metadata": {},
   "outputs": [],
   "source": [
    "!pip3 install SpeechRecognition  "
   ]
  },
  {
   "cell_type": "code",
   "execution_count": null,
   "id": "d9b12d43-e87c-406f-afb3-95fd3f733ad1",
   "metadata": {},
   "outputs": [],
   "source": [
    "pip install PyAudio"
   ]
  },
  {
   "cell_type": "code",
   "execution_count": null,
   "id": "bc18ff5c-214d-43a1-bdd0-6c5b9f7d45e9",
   "metadata": {},
   "outputs": [],
   "source": [
    "pip install PyAudio-0.2.11-cp39-cp39-win_amd64.whl  "
   ]
  },
  {
   "cell_type": "code",
   "execution_count": null,
   "id": "05d0ccac-c098-4283-90de-057eb2c9d171",
   "metadata": {},
   "outputs": [],
   "source": [
    "!pip3 install gTTs  \n",
    "!pip3 install gTTS-token  "
   ]
  },
  {
   "cell_type": "code",
   "execution_count": null,
   "id": "073f516e-6c97-4e2b-9810-7e8448cca3c2",
   "metadata": {},
   "outputs": [],
   "source": [
    "import os\n",
    "from playsound import playsound as PS\n",
    "import speech_recognition as s_r\n",
    "from googletrans import Translator as Trans\n",
    "from gtts import gTTS\n",
    "\n",
    "# Dictionary mapping language names to codes for Google Translate\n",
    "language_dict = {\n",
    "    'afrikaans': 'af', 'albanian': 'sq', 'amharic': 'am', 'arabic': 'ar', 'armenian': 'hy',\n",
    "    'azerbaijani': 'az', 'basque': 'eu', 'belarusian': 'be', 'bengali': 'bn', 'bosnian': 'bs',\n",
    "    'bulgarian': 'bg', 'catalan': 'ca', 'cebuano': 'ceb', 'chichewa': 'ny', 'chinese (simplified)': 'zh-cn',\n",
    "    'chinese (traditional)': 'zh-tw', 'corsican': 'co', 'croatian': 'hr', 'czech': 'cs', 'danish': 'da',\n",
    "    'dutch': 'nl', 'english': 'en', 'esperanto': 'eo', 'estonian': 'et', 'filipino': 'tl', 'finnish': 'fi',\n",
    "    'french': 'fr', 'frisian': 'fy', 'galician': 'gl', 'georgian': 'ka', 'german': 'de', 'greek': 'el',\n",
    "    'gujarati': 'gu', 'haitian creole': 'ht', 'hausa': 'ha', 'hawaiian': 'haw', 'hebrew': 'he', 'hindi': 'hi',\n",
    "    'hmong': 'hmn', 'hungarian': 'hu', 'icelandic': 'is', 'igbo': 'ig'\n",
    "}\n",
    "\n",
    "# Capture the user's voice command\n",
    "def take_command():\n",
    "    r1 = s_r.Recognizer()\n",
    "    with s_r.Microphone() as source:\n",
    "        print(\"Listening to the voice...\")\n",
    "        r1.pause_threshold = 2  # Increase to allow pauses between words\n",
    "        r1.energy_threshold = 300  # Adjust microphone sensitivity if necessary\n",
    "        audio1 = r1.listen(source, timeout=5, phrase_time_limit=10)  # Configure timeout limits\n",
    "\n",
    "    try:\n",
    "        print(\"Recognizing the voice...\")\n",
    "        query_1 = r1.recognize_google(audio1, language='en-in')\n",
    "        print(f\"User said: {query_1}\\n\")\n",
    "    except s_r.UnknownValueError:\n",
    "        print(\"Sorry, I could not understand audio. Please speak again.\")\n",
    "        return \"None\"\n",
    "    except s_r.RequestError:\n",
    "        print(\"Could not request results from the speech recognition service.\")\n",
    "        return \"None\"\n",
    "    return query_1\n",
    "\n",
    "# Get the user's language choice for translation\n",
    "def destination_language():\n",
    "    print(\"Please enter the language in which you want to convert the input (e.g., English, Hindi, German, French, etc.):\\n\")\n",
    "    to_language = take_command().lower()\n",
    "    while to_language == \"None\" or to_language not in language_dict:\n",
    "        print(\"The language you selected is not available. Please input another language.\")\n",
    "        to_language = take_command().lower()\n",
    "    return to_language\n",
    "\n",
    "# Get the destination language from the user\n",
    "to_language = destination_language()\n",
    "\n",
    "# Capture the user's speech input to translate\n",
    "query_1 = take_command()  # This is where the actual user input (e.g., \"hello\") is captured\n",
    "\n",
    "# Map language to its corresponding code\n",
    "to_language_code = language_dict[to_language]\n",
    "\n",
    "# Initialize Google Translator and perform translation\n",
    "translator1 = Trans()\n",
    "text_to_translate = translator1.translate(query_1, dest=to_language_code)\n",
    "translated_text = text_to_translate.text\n",
    "print(f\"Translated Text: {translated_text}\")\n",
    "\n",
    "# Use Google Text-to-Speech to generate audio of the translated text\n",
    "speak = gTTS(text=translated_text, lang=to_language_code, slow=False)\n",
    "speak.save(\"captured_voice.mp3\")\n",
    "\n",
    "# Play the translated voice and delete the audio file afterward\n",
    "PS(\"captured_voice.mp3\")\n",
    "os.remove(\"captured_voice.mp3\")\n"
   ]
  }
 ],
 "metadata": {
  "kernelspec": {
   "display_name": "Python 3 (ipykernel)",
   "language": "python",
   "name": "python3"
  },
  "language_info": {
   "codemirror_mode": {
    "name": "ipython",
    "version": 3
   },
   "file_extension": ".py",
   "mimetype": "text/x-python",
   "name": "python",
   "nbconvert_exporter": "python",
   "pygments_lexer": "ipython3",
   "version": "3.12.4"
  }
 },
 "nbformat": 4,
 "nbformat_minor": 5
}
